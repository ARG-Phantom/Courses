{
 "cells": [
  {
   "cell_type": "markdown",
   "metadata": {
    "vscode": {
     "languageId": "c"
    }
   },
   "source": [
    "# ![Q1](practice/Q1.png)"
   ]
  },
  {
   "cell_type": "code",
   "execution_count": null,
   "metadata": {},
   "outputs": [],
   "source": [
    "#include <stdio.h>\n",
    "#include <string.h>\n",
    "#include <stdlib.h>\n",
    "\n",
    "int main(){\n",
    "    char numToWord[10][6]= {\"zero\",\"one\",\"two\",\"three\",\"four\",\"five\",\"six\",\"seven\",\"eight\",\"nine\"};\n",
    "    char* num = (char*) malloc(50);\n",
    "    gets(num);\n",
    "    //int i=0;\n",
    "    //printf(\"%d %s\",strlen(num),num);\n",
    "    while(*(num)!='\\0')\n",
    "        printf(\"%s \",numToWord[*(num++)-'0']);\n",
    "}"
   ]
  },
  {
   "cell_type": "markdown",
   "metadata": {},
   "source": [
    "# ![Q1](practice/Q2.png)"
   ]
  },
  {
   "cell_type": "code",
   "execution_count": null,
   "metadata": {},
   "outputs": [],
   "source": [
    "#include <stdio.h>\n",
    "\n",
    "int main(){\n",
    "    int x,n,isNeg=0;\n",
    "    scanf(\"%d %d\",&x,&n);\n",
    "    \n",
    "    if(n==0) {printf(\"1\");return 0;}\n",
    "    if(n<0) {isNeg=1;n=-n;}\n",
    "    \n",
    "    int ox = x;\n",
    "    for(int i=1;i<n;i++)\n",
    "        x*= ox;\n",
    "    \n",
    "    if(!isNeg) printf(\"%d\",x);\n",
    "    else printf(\"1/%d\",x);\n",
    "}"
   ]
  },
  {
   "cell_type": "markdown",
   "metadata": {},
   "source": [
    "# ![Q1](practice/Q3.png)"
   ]
  },
  {
   "cell_type": "code",
   "execution_count": null,
   "metadata": {},
   "outputs": [],
   "source": [
    "#include <stdio.h>\n",
    "\n",
    "int main(){\n",
    "    int n,sum=0;\n",
    "    scanf(\"%d\",&n);\n",
    "    \n",
    "    for(int i = 1;i<=n;i++){\n",
    "        printf(\"%d \",i*i);\n",
    "        sum += i*i;\n",
    "    }\n",
    "    \n",
    "    printf(\"\\n%d\",sum);\n",
    "    \n",
    "}"
   ]
  },
  {
   "cell_type": "markdown",
   "metadata": {},
   "source": [
    "# ![Q1](practice/Q4.png)"
   ]
  },
  {
   "cell_type": "code",
   "execution_count": null,
   "metadata": {},
   "outputs": [],
   "source": [
    "#include <stdio.h>\n",
    "\n",
    "int main(){\n",
    "    int num;\n",
    "    scanf(\"%d\",&num);\n",
    "    int f=num/100,s=num%100;\n",
    "    \n",
    "    if(f>=s) num = f*100+f;\n",
    "    else num = num + (101 - (s-f));\n",
    "    \n",
    "    //printf(\"%d\\n\",num);\n",
    "    while(num<=9999){\n",
    "        printf(\"%d\\n\",num);\n",
    "        num+=101;\n",
    "    }\n",
    "}"
   ]
  },
  {
   "cell_type": "markdown",
   "metadata": {},
   "source": [
    "# ![Q1](practice/Q5.png)"
   ]
  },
  {
   "cell_type": "code",
   "execution_count": null,
   "metadata": {
    "vscode": {
     "languageId": "c"
    }
   },
   "outputs": [],
   "source": [
    "// You are using GCC\n",
    "#include <stdio.h>\n",
    "\n",
    "int main(){\n",
    "    int p2=0,p1=1,c,n;\n",
    "    scanf(\"%d\",&n);\n",
    "    \n",
    "    printf(\"%d %d \",p2,p1);\n",
    "    \n",
    "    //Using two variables\n",
    "    for(n-=2;n>0;n--){\n",
    "        printf(\"%d \",p1=p2+p1);\n",
    "        p2 = p1-p2;\n",
    "    }\n",
    "    \n",
    "    //Using three variables\n",
    "    /*\n",
    "    for(n-=2;n>0;n--){\n",
    "        c=p2+p1;\n",
    "        printf(\"%d \",c);\n",
    "        p2=p1;\n",
    "        p1=c;\n",
    "    }\n",
    "    */\n",
    "}\n"
   ]
  },
  {
   "cell_type": "markdown",
   "metadata": {},
   "source": [
    "# ![Q1](practice/Q6.png)"
   ]
  },
  {
   "cell_type": "code",
   "execution_count": null,
   "metadata": {
    "vscode": {
     "languageId": "c"
    }
   },
   "outputs": [],
   "source": [
    "// You are using GCC\n",
    "#include <stdio.h>\n",
    "\n",
    "int main(){\n",
    "    int a,n;\n",
    "    scanf(\"%d %d\",&a,&n);\n",
    "    \n",
    "    for(int i=1;i<=n;i++)\n",
    "        printf(\"%d * %d = %d\\n\",i,a,i*a);\n",
    "}"
   ]
  },
  {
   "cell_type": "markdown",
   "metadata": {},
   "source": [
    "# ![Q1](practice/Q7.png)"
   ]
  },
  {
   "cell_type": "code",
   "execution_count": null,
   "metadata": {},
   "outputs": [],
   "source": [
    "// You are using GCC\n",
    "#include <stdio.h>\n",
    "\n",
    "int main(){\n",
    "    int min,max,inc,divi,sum=0;\n",
    "    scanf(\"%d %d %d %d\",&min,&max,&inc,&divi);\n",
    "    \n",
    "    for(min;min<=max;min+=inc){\n",
    "        printf(\"%d \",min);\n",
    "        if(min%divi == 0) sum+=min;\n",
    "    }\n",
    "    \n",
    "    printf(\"\\nSum : %d\",sum);\n",
    "}"
   ]
  },
  {
   "cell_type": "markdown",
   "metadata": {},
   "source": [
    "# ![Q1](practice/Q8.png)"
   ]
  },
  {
   "cell_type": "code",
   "execution_count": null,
   "metadata": {},
   "outputs": [],
   "source": [
    "// You are using GCC\n",
    "#include <stdio.h>\n",
    "\n",
    "int main(){\n",
    "    int n;\n",
    "    scanf(\"%d\",&n);\n",
    "    double sum=0;\n",
    "    \n",
    "    for(int x=1;x<=n;x++){\n",
    "        if(x%2) sum+=(double)1/x;\n",
    "        else sum-=(double)1/x;\n",
    "    }\n",
    "        \n",
    "    printf(\"%lf\",sum);\n",
    "}"
   ]
  },
  {
   "cell_type": "markdown",
   "metadata": {},
   "source": [
    "# ![Q1](practice/Q9.png)"
   ]
  },
  {
   "cell_type": "code",
   "execution_count": null,
   "metadata": {},
   "outputs": [],
   "source": [
    "// You are using GCC\n",
    "#include <stdio.h>\n",
    "#include <math.h>\n",
    "\n",
    "int main(){\n",
    "    float fact=1,sum=0,n,a;\n",
    "    scanf(\"%f %f\",&a,&n);\n",
    "    \n",
    "    for(float i=1;i<=n;i++){\n",
    "        fact*=i;\n",
    "        sum+=pow(a,i)/fact;\n",
    "    }\n",
    "    \n",
    "    printf(\"%f\",sum);\n",
    "}"
   ]
  },
  {
   "cell_type": "markdown",
   "metadata": {},
   "source": [
    "# ![Q1](practice/Q10.png)"
   ]
  },
  {
   "cell_type": "code",
   "execution_count": null,
   "metadata": {},
   "outputs": [],
   "source": [
    "// You are using GCC\n",
    "#include <stdio.h>\n",
    "\n",
    "int main(){\n",
    "    int ini=2,n;\n",
    "    scanf(\"%d\",&n);\n",
    "    \n",
    "    for(int i=1;i<=n;i++){\n",
    "        for(int j=1;j<=i;j++){\n",
    "            printf(\"%10.5d\",ini*((2*ini)-1));\n",
    "            ini+=2;\n",
    "        }\n",
    "        printf(\"\\n\");\n",
    "    }\n",
    "}"
   ]
  },
  {
   "cell_type": "markdown",
   "metadata": {},
   "source": [
    "# ![Q1](practice/Q11.png)"
   ]
  },
  {
   "cell_type": "code",
   "execution_count": null,
   "metadata": {},
   "outputs": [],
   "source": [
    "// You are using GCC\n",
    "#include <stdio.h>\n",
    "#include <math.h>\n",
    "\n",
    "int isPrime(int n){\n",
    "    if(n<2) return 0;\n",
    "    if(n==2) return 1;\n",
    "    \n",
    "    for(int i=3;i<=sqrt(n);i+=2)\n",
    "        if(n%i == 0) \n",
    "            return 0;\n",
    "\n",
    "    return 1;\n",
    "}\n",
    "\n",
    "int main(){\n",
    "    int start,stop;\n",
    "    scanf(\"%d %d\",&start,&stop);\n",
    "    \n",
    "    if(start<=2) {\n",
    "        printf(\"2 \");\n",
    "        start=3;\n",
    "    }\n",
    "    \n",
    "    if(start%2==0) start++;\n",
    "    \n",
    "    for(int i=start;i<=stop;i+=2)\n",
    "        if(isPrime(i)) printf(\"%d \",i);\n",
    "}"
   ]
  },
  {
   "cell_type": "markdown",
   "metadata": {},
   "source": [
    "# ![Q1](practice/Q12.png)"
   ]
  },
  {
   "cell_type": "code",
   "execution_count": null,
   "metadata": {},
   "outputs": [],
   "source": [
    "// You are using GCC\n",
    "#include <stdio.h>\n",
    "\n",
    "int palindrome(int n){\n",
    "    int rn=0,tn=n;\n",
    "    while(tn>0){\n",
    "        rn*=10;\n",
    "        rn+=tn%10;\n",
    "        tn/=10;\n",
    "    }\n",
    "    return (rn==n)?1:0;\n",
    "}\n",
    "\n",
    "int main(){\n",
    "    int num;\n",
    "    scanf(\"%d\",&num);\n",
    "    \n",
    "    if(palindrome(num)) printf(\"%d is a palindrome.\",num);\n",
    "    else printf(\"%d is not a palindrome.\",num);\n",
    "}"
   ]
  },
  {
   "cell_type": "markdown",
   "metadata": {},
   "source": [
    "# ![Q1](practice/Q13.png)"
   ]
  },
  {
   "cell_type": "code",
   "execution_count": null,
   "metadata": {},
   "outputs": [],
   "source": [
    "// You are using GCC\n",
    "#include <stdio.h>\n",
    "\n",
    "int main(){\n",
    "    int n,fact=1;\n",
    "    float sum=0;\n",
    "    scanf(\"%d\",&n);\n",
    "    \n",
    "    for(int i=1;i<=n;i++)\n",
    "        sum+=(float)i/(fact*=i);\n",
    "        \n",
    "    printf(\"%.2f\",sum);\n",
    "}"
   ]
  },
  {
   "cell_type": "markdown",
   "metadata": {},
   "source": [
    "# ![Q1](practice/Q14.png)"
   ]
  },
  {
   "cell_type": "code",
   "execution_count": null,
   "metadata": {},
   "outputs": [],
   "source": [
    "// You are using GCC\n",
    "#include <stdio.h>\n",
    "\n",
    "int main(){\n",
    "    char num[6];\n",
    "    gets(num);\n",
    "    \n",
    "    for(int i=0;i<5;i++)\n",
    "        printf(\"%c   \",num[i]);\n",
    "}"
   ]
  },
  {
   "cell_type": "markdown",
   "metadata": {},
   "source": [
    "# ![Q1](practice/Q15.png)"
   ]
  },
  {
   "cell_type": "code",
   "execution_count": null,
   "metadata": {},
   "outputs": [],
   "source": [
    "// You are using GCC\n",
    "#include <stdio.h>\n",
    "\n",
    "int main(){\n",
    "    int n;\n",
    "    scanf(\"%d\",&n);\n",
    "    \n",
    "    for(int i=1;i<=n;i++){\n",
    "        for(int j=1;j<=n;j++)\n",
    "            printf(\"%d \",i*j);\n",
    "        printf(\"\\n\");\n",
    "    }    \n",
    "}"
   ]
  }
 ],
 "metadata": {
  "kernelspec": {
   "display_name": "Python 3.9.5 64-bit",
   "language": "python",
   "name": "python3"
  },
  "language_info": {
   "name": "python",
   "version": "3.9.5"
  },
  "orig_nbformat": 4,
  "vscode": {
   "interpreter": {
    "hash": "8bc061cdd3b7de1a31d7edb743caba91510c5e37c11a655367b7ae3eaee691b7"
   }
  }
 },
 "nbformat": 4,
 "nbformat_minor": 2
}
