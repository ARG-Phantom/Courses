{
 "cells": [
  {
   "cell_type": "markdown",
   "metadata": {},
   "source": [
    "# ![Q1](Practice_QP/Q1.png)\n"
   ]
  },
  {
   "cell_type": "markdown",
   "metadata": {},
   "source": [
    "--------------\n",
    "```C\n",
    "#include<stdio.h>\n",
    "int perfectNumber(int n) {\n",
    "    int sum=0;\n",
    "    for(int i=1;i<n;i++)\n",
    "        if(n%i==0)\n",
    "            sum+=i;\n",
    "            \n",
    "    return sum==n;\n",
    "}\n",
    "int main()\n",
    "{\n",
    "   int n;\n",
    "   scanf(\"%d\",&n);\n",
    "   perfectNumber(n);\n",
    "   printf(\"%d is %sa perfect number\",n,(perfectNumber(n))?\"\":\"not \");\n",
    "   return 0;\n",
    "}\n",
    "```\n",
    "--------------"
   ]
  },
  {
   "cell_type": "markdown",
   "metadata": {},
   "source": [
    "# ![Q2](Practice_QP/Q2.png)\n"
   ]
  },
  {
   "cell_type": "markdown",
   "metadata": {},
   "source": [
    "--------------\n",
    "```C\n",
    "#include <stdio.h>\n",
    "\n",
    "void reverseElements(int n,int* arr){\n",
    "    for(int i=0;i<n;i++){\n",
    "        int rev = 0;\n",
    "        int num = arr[i];\n",
    "        while(num){\n",
    "            rev*=10;\n",
    "            rev+=num%10;\n",
    "            num/=10;\n",
    "        }\n",
    "        arr[i]=rev;\n",
    "    }\n",
    "}\n",
    "\n",
    "int main(){\n",
    "    int n;\n",
    "    scanf(\"%d\",&n);\n",
    "    int arr[n];\n",
    "    for(int i=0;i<n;i++) scanf(\" %d \",&arr[i]);\n",
    "    reverseElements(n,arr);\n",
    "    for(int i=0;i<n;i++) printf(\"%d \",arr[i]);\n",
    "}\n",
    "\n",
    "```\n",
    "--------------"
   ]
  },
  {
   "cell_type": "markdown",
   "metadata": {},
   "source": [
    "# ![Q3](Practice_QP/Q3.png)\n"
   ]
  },
  {
   "cell_type": "markdown",
   "metadata": {},
   "source": [
    "--------------\n",
    "```C\n",
    "#include<stdio.h>\n",
    "\n",
    "int sumOfNum(int num,int prev){\n",
    "    int ds = prev;\n",
    "    while(num){\n",
    "        ds+=num%10;\n",
    "        //printf(\"%d %d %d\\n\",num,prev,ds);\n",
    "        if(ds>10) ds = sumOfNum(ds,0);\n",
    "        num/=10;\n",
    "    }\n",
    "    return ds;\n",
    "}\n",
    "\n",
    "int sum(int a[],int n){\n",
    "    int soa=0; \n",
    "    for(int i=0;i<n;i++){\n",
    "        soa=sumOfNum(a[i],soa);\n",
    "    }\n",
    "    return soa;\n",
    "}\n",
    "int main()\n",
    "{\n",
    "    int n,i;\n",
    "    scanf(\"%d\",&n);\n",
    "    int a[n];\n",
    "    for(int i=0;i<n;i++) scanf(\"%d\",&a[i]);\n",
    "    printf(\"%d\",sum(a,n));\n",
    "}\n",
    "```\n",
    "--------------"
   ]
  },
  {
   "cell_type": "markdown",
   "metadata": {},
   "source": [
    "# ![Q4](Practice_QP/Q4.png)\n"
   ]
  },
  {
   "cell_type": "markdown",
   "metadata": {},
   "source": [
    "--------------\n",
    "```C\n",
    "#include <stdio.h>\n",
    "#include <stdlib.h>\n",
    "\n",
    "char check(char c)\n",
    "{\n",
    "    if(c>='a' && c<='z') return 'L';\n",
    "    else if(c>='A' && c<='Z') return 'U';\n",
    "    else return 'I';\n",
    "}\n",
    "\n",
    "int main()\n",
    "{\n",
    "    char t;\n",
    "    scanf(\"%c\",&t);\n",
    "    switch(check(t)){\n",
    "        case 'L' : printf(\"Lower Case\");break;\n",
    "        case 'U' : printf(\"Upper Case\");break;\n",
    "        case 'I' : printf(\"Invalid\");\n",
    "    }\n",
    "    return 0;\n",
    "}\n",
    "```\n",
    "--------------"
   ]
  },
  {
   "cell_type": "markdown",
   "metadata": {},
   "source": [
    "# ![Q5](Practice_QP/Q5.png)\n"
   ]
  },
  {
   "cell_type": "markdown",
   "metadata": {},
   "source": [
    "--------------\n",
    "```C\n",
    "#include <stdio.h>\n",
    "\n",
    "\n",
    "int find_factorial(int n){\n",
    "    return (!n)?1:n*find_factorial(n-1);\n",
    "}\n",
    "\n",
    "int main(){\n",
    "    int n;\n",
    "    scanf(\"%d\",&n);\n",
    "    printf(\"%d\",find_factorial(n));\n",
    "}\n",
    "```\n",
    "--------------"
   ]
  },
  {
   "cell_type": "markdown",
   "metadata": {},
   "source": [
    "# ![Q6](Practice_QP/Q6.png)"
   ]
  },
  {
   "cell_type": "markdown",
   "metadata": {},
   "source": [
    "--------------\n",
    "**Already Given in Snippet :**\n",
    "```C\n",
    "    #include <stdio.h>\n",
    "    #include <math.h>\n",
    "    int checkPrimeNumber(int n);\n",
    "    int checkArmstrongNumber(int n);\n",
    "    int main()\n",
    "    {\n",
    "        int n, flag;\n",
    "        scanf(\"%d\", &n);\n",
    "        // Check prime number\n",
    "        flag = checkPrimeNumber(n);\n",
    "        if (flag == 1)\n",
    "            printf(\"%d is a prime number.\\n\", n);\n",
    "        else\n",
    "            printf(\"%d is not a prime number.\\n\", n);\n",
    "\n",
    "        // Check Armstrong number\n",
    "        flag = checkArmstrongNumber(n);\n",
    "        if (flag == 1)\n",
    "            printf(\"%d is an Armstrong number.\", n);\n",
    "        else\n",
    "            printf(\"%d is not an Armstrong number.\",n);\n",
    "        return 0;\n",
    "    }\n",
    "```\n",
    "**Written Code :**\n",
    "```C\n",
    "int checkPrimeNumber(int n){\n",
    "    if(n==2) return 1;\n",
    "    if(n==1 || n%2==0) return 0;\n",
    "    for(int i=3;i<=sqrt(n);i+=2) \n",
    "        if(n%i==0) return 0;\n",
    "    return 1;\n",
    "}\n",
    "\n",
    "int checkArmstrongNumber(int n){\n",
    "    int sum=0,t=n,r;\n",
    "    while(t){\n",
    "        r=t%10;\n",
    "        sum+=r*r*r;\n",
    "        t/=10;\n",
    "    }\n",
    "    return sum==n;\n",
    "}\n",
    "```\n",
    "--------------"
   ]
  }
 ],
 "metadata": {
  "language_info": {
   "name": "python"
  },
  "orig_nbformat": 4
 },
 "nbformat": 4,
 "nbformat_minor": 2
}
